{
  "cells": [
    {
      "cell_type": "markdown",
      "metadata": {
        "id": "view-in-github",
        "colab_type": "text"
      },
      "source": [
        "<a href=\"https://colab.research.google.com/github/arturLoza/MCMC-methods-in-option-valuation/blob/main/v2_M5U1_Tarea_1.ipynb\" target=\"_parent\"><img src=\"https://colab.research.google.com/assets/colab-badge.svg\" alt=\"Open In Colab\"/></a>"
      ]
    },
    {
      "cell_type": "markdown",
      "metadata": {
        "id": "mLlSr7BaKSLF"
      },
      "source": [
        "<img src = \"https://drive.google.com/uc?export=view&id=1QqjbbEZ1w7xoawV020Jj_R46PKRi6A_e\" alt = \"Encabezado MLDS\" width = \"100%\">  </img>"
      ]
    },
    {
      "cell_type": "markdown",
      "metadata": {
        "id": "fEewD2N0RkMc"
      },
      "source": [
        "# **Tarea 1: Clasificación lineal**\n",
        "---\n",
        "\n",
        "En esta tarea deberá entrenar modelos de clasificación con regresión logística para el [conjunto de datos de vinos Wine](https://archive.ics.uci.edu/ml/machine-learning-databases/wine/wine.data) del repositorio de la *UCI* usando *Keras* con el back end de *TensorFlow*.\n",
        "\n",
        "Ejecute las siguientes celdas para conectarse a UNCode:"
      ]
    },
    {
      "cell_type": "code",
      "execution_count": 1,
      "metadata": {
        "id": "2nZiCjQpPdYC"
      },
      "outputs": [],
      "source": [
        "%%capture\n",
        "!pip install rlxcrypt\n",
        "!wget --no-cache -O session.pye -q https://raw.githubusercontent.com/JuezUN/INGInious/master/external%20libs/session.pye"
      ]
    },
    {
      "cell_type": "code",
      "execution_count": 2,
      "metadata": {
        "id": "CKNgJYjHPhtr",
        "colab": {
          "base_uri": "https://localhost:8080/",
          "height": 288
        },
        "outputId": "303139e8-9923-493b-894d-b51d515b9d7a"
      },
      "outputs": [
        {
          "output_type": "display_data",
          "data": {
            "text/plain": [
              "<IPython.core.display.HTML object>"
            ],
            "text/html": [
              "\n",
              "    <div>\n",
              "    <div style=\"display: flex\">\n",
              "        <div style=\"padding: 10px\">\n",
              "          <img\n",
              "            src=\"https://uncode.unal.edu.co/static/images/logo_unc.svg\"\n",
              "            width=\"50px\"\n",
              "            height=\"50px\"\n",
              "          />\n",
              "        </div>\n",
              "      \n",
              "        <div>\n",
              "          <h2>UNCode Notebooks grader API</h2>\n",
              "          <hr />\n",
              "        </div>\n",
              "      </div>\n",
              "      \n",
              "      <div style=\"display: flex\">\n",
              "        <span>Please enter authentication data</span>\n",
              "      </div>\n",
              "    </div>\n",
              "    "
            ]
          },
          "metadata": {}
        },
        {
          "name": "stdout",
          "output_type": "stream",
          "text": [
            "Please enter your UNCode username: bacamargol\n",
            "Please enter your password: ··········\n"
          ]
        },
        {
          "output_type": "display_data",
          "data": {
            "text/plain": [
              "<IPython.core.display.HTML object>"
            ],
            "text/html": [
              "<h5 style=\"color: green\"><Response [200]></h5>"
            ]
          },
          "metadata": {}
        },
        {
          "output_type": "display_data",
          "data": {
            "text/plain": [
              "<IPython.core.display.HTML object>"
            ],
            "text/html": [
              "<h5 style=\"color: green\">Auth process succeeded</h5>"
            ]
          },
          "metadata": {}
        },
        {
          "output_type": "display_data",
          "data": {
            "text/plain": [
              "<IPython.core.display.HTML object>"
            ],
            "text/html": [
              "<h5>View your courses <a href=\"https://uncode.unal.edu.co/courselist\">at UNCode platform</a></h5>"
            ]
          },
          "metadata": {}
        },
        {
          "output_type": "display_data",
          "data": {
            "text/plain": [
              "<IPython.core.display.HTML object>"
            ],
            "text/html": [
              "<h3>You will sumbit code to course: <span style=\"color: green\">Deep learning | Grupo MLDS-5 | 2025 - 2<span></h3>"
            ]
          },
          "metadata": {}
        },
        {
          "output_type": "display_data",
          "data": {
            "text/plain": [
              "<IPython.core.display.HTML object>"
            ],
            "text/html": [
              "<h3>You will sumbit code to task: <span style=\"color: blue\">Taller 1: Clasificación lineal<span></h3>"
            ]
          },
          "metadata": {}
        }
      ],
      "source": [
        "import rlxcrypt\n",
        "import session\n",
        "\n",
        "grader = session.LoginSequence('DL-GroupMLDS-5-2025-2@c1f23e8b-1364-4562-bf6f-2bc3bf4d065b')"
      ]
    },
    {
      "cell_type": "markdown",
      "metadata": {
        "id": "S-ocd--frFi7"
      },
      "source": [
        "Ejecute la siguiente celda para importar y configurar las librerías usadas :"
      ]
    },
    {
      "cell_type": "code",
      "execution_count": 3,
      "metadata": {
        "id": "PIB7qeOuVkfh"
      },
      "outputs": [],
      "source": [
        "# Librerías de utilidad para manipulación y visualización de datos.\n",
        "from numbers import Number\n",
        "import numpy as np\n",
        "import tensorflow as tf\n",
        "import keras\n",
        "import matplotlib as mpl\n",
        "import matplotlib.pyplot as plt\n",
        "\n",
        "from numpy.random import seed\n",
        "seed(1)\n",
        "\n",
        "# Ignorar warnings.\n",
        "import warnings\n",
        "warnings.filterwarnings('ignore')"
      ]
    },
    {
      "cell_type": "code",
      "execution_count": 4,
      "metadata": {
        "id": "jUMP_2CPqwRY",
        "colab": {
          "base_uri": "https://localhost:8080/"
        },
        "outputId": "72b9e4d0-441f-4198-a0ce-dbfa6819d203"
      },
      "outputs": [
        {
          "output_type": "stream",
          "name": "stdout",
          "text": [
            "Python 3.12.11\n",
            "Tensorflow 2.19.0\n",
            "Keras 3.10.0\n"
          ]
        }
      ],
      "source": [
        "# Versiones de las librerías usadas.\n",
        "!python --version\n",
        "print('Tensorflow', tf.__version__)\n",
        "print('Keras', keras.__version__)"
      ]
    },
    {
      "cell_type": "markdown",
      "metadata": {
        "id": "dxNzX3sfq3gZ"
      },
      "source": [
        "Esta actividad se realizó con las siguientes versiones:\n",
        "*  Python 3.11.12\n",
        "*  Tensorflow 2.18.0\n",
        "*  Keras 3.8.0"
      ]
    },
    {
      "cell_type": "markdown",
      "metadata": {
        "id": "hjXal-trVEJf"
      },
      "source": [
        "## **Cargar los datos**\n",
        "---\n",
        "En el conjunto *Wine* las características de entrada corresponden a diferentes atributos del vino. El conjunto de datos contiene 178 ejemplos sobre los que se tiene la siguiente información :\n",
        "\n",
        "* Alcohol\n",
        "* Malic acid\n",
        "* Ash\n",
        "* Alcalinity of ash\n",
        "* Magnesium\n",
        "* Total phenols\n",
        "* Flavanoids\n",
        "* Nonflavanoid phenols\n",
        "* Proanthocyanins\n",
        "* Color intensity\n",
        "* Hue\n",
        "* OD280/OD315 of diluted wines\n",
        "* Proline\n",
        "\n",
        "Hay tres clases de vinos diferentes. `class_0` el cual tiene 59 muestras, `class_1` el cual tiene 71 muestras y `class_2` el cual tiene 48 muestras.\n",
        "\n",
        "Como en cualquier experimento de _machine learning_, vamos a empezar cargando el conjunto de datos, haciendo particiones de entrenamiento y prueba, y para efectos de esta tarea, nos vamos a quedar solo con dos clases (`class_1` y `class_2`) para hacer clasificación:"
      ]
    },
    {
      "cell_type": "code",
      "execution_count": 5,
      "metadata": {
        "id": "Pv04gQUd1lmN"
      },
      "outputs": [],
      "source": [
        "!wget --no-cache -O wine.data -q  https://raw.githubusercontent.com/mindlab-unal/mlds5-datasets/main/u1/taller/wine.data?raw=true"
      ]
    },
    {
      "cell_type": "code",
      "execution_count": 6,
      "metadata": {
        "id": "AJnzTFXwT5vv"
      },
      "outputs": [],
      "source": [
        "import pandas as pd\n",
        "from sklearn import preprocessing\n",
        "from sklearn import model_selection\n",
        "\n",
        "# Leer el archivo que contiene los datos:\n",
        "data =  pd.read_csv('wine.data', sep=\",\", header=None)\n",
        "# La etiqueta está consignada en la primera columna:\n",
        "X_all = np.array(data.iloc[:,1:])\n",
        "y_all = np.array(data.iloc[:,0])\n",
        "# Nos quedamos con la clase 2 y 3, y ajustamos las etiquetas para que queden\n",
        "# como 0 y 1:\n",
        "X = X_all[np.where((y_all==2)|(y_all==3))]\n",
        "y = y_all[np.where((y_all==2)|(y_all==3))]-2\n",
        "# Re-escalamos los datos\n",
        "scaler = preprocessing.MinMaxScaler((0, 1))\n",
        "X = scaler.fit_transform(X)\n",
        "# Y hacemos partición en entrenamiento y prueba\n",
        "X_train, X_test, y_train, y_test = model_selection.train_test_split(X, y, test_size=0.3, stratify=y, random_state=42)"
      ]
    },
    {
      "cell_type": "markdown",
      "metadata": {
        "id": "RojJZC5RZEAX"
      },
      "source": [
        "Verifiquemos el tamaño de las particiones:"
      ]
    },
    {
      "cell_type": "code",
      "execution_count": 7,
      "metadata": {
        "id": "wL6IP3EjZJbH",
        "colab": {
          "base_uri": "https://localhost:8080/"
        },
        "outputId": "f8a6e2bc-cb54-472c-e836-365ee1feeff1"
      },
      "outputs": [
        {
          "output_type": "stream",
          "name": "stdout",
          "text": [
            "Número de muestras de entrenamiento = 83\n",
            "Número de muestras de prueba = 36\n",
            "Número de características del conjunto de datos = 13\n"
          ]
        }
      ],
      "source": [
        "print(\"Número de muestras de entrenamiento =\", X_train.shape[0])\n",
        "print(\"Número de muestras de prueba =\", X_test.shape[0])\n",
        "print(\"Número de características del conjunto de datos =\", X_train.shape[1])"
      ]
    },
    {
      "cell_type": "markdown",
      "metadata": {
        "id": "jvU714ETaBCW"
      },
      "source": [
        "**Salida esperada**\n",
        "\n",
        "```python\n",
        "Número de muestras de entrenamiento = 83\n",
        "Número de muestras de prueba = 36\n",
        "Número de características del conjunto de datos = 13\n",
        "```\n",
        "\n",
        "Tenemos entonces 122 muestras con 13 _features_ para trabajar. Ahora veamos cuántas muestras hay por cada clase:"
      ]
    },
    {
      "cell_type": "code",
      "source": [],
      "metadata": {
        "id": "zO-fbF229FDs"
      },
      "execution_count": null,
      "outputs": []
    },
    {
      "cell_type": "code",
      "execution_count": 8,
      "metadata": {
        "id": "c3KjHa9ta1j1",
        "colab": {
          "base_uri": "https://localhost:8080/"
        },
        "outputId": "1628c42c-6f48-48e8-b1c2-c56f8e390e9c"
      },
      "outputs": [
        {
          "output_type": "stream",
          "name": "stdout",
          "text": [
            "Número de muestras de la clase 2 en entrenamiento = 50\n",
            "Número de muestras de la clase 3 en entrenamiento = 33\n",
            "Número de muestras de la clase 2 en prueba = 21\n",
            "Número de muestras de la clase 3 en prueba = 15\n"
          ]
        }
      ],
      "source": [
        "print(\"Número de muestras de la clase 2 en entrenamiento =\", X_train[np.where(y_train==0)].shape[0])\n",
        "print(\"Número de muestras de la clase 3 en entrenamiento =\", X_train[np.where(y_train==1)].shape[0])\n",
        "print(\"Número de muestras de la clase 2 en prueba =\", X_test[np.where(y_test==0)].shape[0])\n",
        "print(\"Número de muestras de la clase 3 en prueba =\", X_test[np.where(y_test==1)].shape[0])"
      ]
    },
    {
      "cell_type": "markdown",
      "metadata": {
        "id": "I4TrnwBrZuRi"
      },
      "source": [
        "**Salida esperada**\n",
        "```python\n",
        "Número de muestras de la clase 2 en entrenamiento = 50\n",
        "Número de muestras de la clase 3 en entrenamiento = 33\n",
        "Número de muestras de la clase 2 en prueba = 21\n",
        "Número de muestras de la clase 3 en prueba = 15\n",
        "```\n",
        "\n",
        "Como puede ver, el conjunto de datos está desbalanceado. Vamos entonces a implementar un modelo que compense este desbalance desde la función de pérdida."
      ]
    },
    {
      "cell_type": "markdown",
      "metadata": {
        "id": "5lgEUZq_Icve"
      },
      "source": [
        "## **Modelo de regresión logística con _class_weight_**\n",
        "---\n",
        "Una vez se dispone de un conjunto de datos preparado para el entrenamiento, se declara el algoritmos de aprendizaje computacional. En nuestro caso queremos predecir el valor de una variable categórica, es decir, realizar un modelo para **clasificación**.\n",
        "\n",
        "Sin embargo, el conjunto de datos no está balanceado. Cuando esto sucede, podemos compensar el desbalance dándole más importancia a la clase menos presente. Darle más importancia a una clase se logra asignando un peso por cada clase dentro de la función de pérdida del modelo.\n",
        "\n",
        "Supongamo que tenemos un problema desbalanceado de clasificación binario con etiquetas $0$ y $1$. Supongamos que $n_0$ es el número de elementos de la clase $0$ y $n_1$ es el número de elementos de la clase $1$. Una elección convencional sobre los pesos que se le deben asignar a cada clase es :\n",
        "\n",
        "$$w_0=\\dfrac{n_0+n_1}{2n_0},$$\n",
        "\n",
        "$$w_1=\\dfrac{n_0+n_1}{2n_1}.$$\n",
        "\n",
        "Y estos pesos se incorporan a la función de pérdida de la siguiente forma :\n",
        "\n",
        "$$\\mathcal{L}(\\vec{w})=-\\frac{1}{N}\\sum_{i=1}^{N}[w_1 y_i\\log(\\tilde{y}_i)+w_0(1-y_i)\\log(1-\\tilde{y}_i)],$$\n",
        "\n",
        "¿Cómo funciona? Supongamos que hay 100 muestras de la clase $0$ y 50 de la clase $1$. Es decir, $n_0=100$ y $n_1=50$. Entonces $w_0=0.75$ y $w_1=1.5$. Así, el peso de la clase $1$ es el doble del peso de la clase $0$. Cuando el modelo no clasifica bien una muestra de la clase $1$, la penalidad se multiplica por $w_1$. Es decir, el modelo entiende que es más grave equivocarse con los datos de la clase $1$, y de esa manera compensa el que sean menos muestras que las de la clase $0$, tratanto de previnir cualquier tipo de sesgo en el modelo final.\n",
        "\n"
      ]
    },
    {
      "cell_type": "markdown",
      "metadata": {
        "id": "B7NJO2HQ7q5p"
      },
      "source": [
        "> **La tarea es incremental, por lo tanto es recomendable resolver los puntos en orden**"
      ]
    },
    {
      "cell_type": "markdown",
      "metadata": {
        "id": "hvlFb8xffeRb"
      },
      "source": [
        "## **1. Calcular el peso de cada clase**\n",
        "---\n",
        "\n",
        "Complete la función **`class_weights`** para que calcule los pesos que el modelo tiene que darle a cada clase según el desbalance de los datos.\n",
        "\n",
        "**Entrada** :\n",
        "\n",
        "* **`y`**: un `numpy.ndarray` de tamaño `(m,)`; es decir, el vector de etiquetas de los datos de entrenamiento. $m$ el número de muestras del conjunto de entrenamiento.\n",
        "\n",
        "**Salida** :\n",
        "\n",
        "* **`weights_list`** : `list`, una lista con los pesos (tipo `float`) de cada clase, en orden."
      ]
    },
    {
      "cell_type": "code",
      "source": [
        "\n"
      ],
      "metadata": {
        "colab": {
          "base_uri": "https://localhost:8080/"
        },
        "id": "obJNV4bL9v2t",
        "outputId": "2e3f83fd-736b-44bb-bddb-6b9d91576206"
      },
      "execution_count": 27,
      "outputs": [
        {
          "output_type": "execute_result",
          "data": {
            "text/plain": [
              "0.5845070422535211"
            ]
          },
          "metadata": {},
          "execution_count": 27
        }
      ]
    },
    {
      "cell_type": "code",
      "execution_count": 37,
      "metadata": {
        "id": "hvZuMzfkO_O3"
      },
      "outputs": [],
      "source": [
        "# FUNCIÓN CALIFICADA class_weights:\n",
        "\n",
        "def class_weights(y):\n",
        "    # Reemplazar con respuesta\n",
        "    w_0 = (y[y==0].shape[0] + y[y==1].shape[0]) / (2*y[y==0].shape[0])\n",
        "    w_1 = (y[y==0].shape[0] + y[y==1].shape[0]) / (2*y[y==1].shape[0])\n",
        "    weights_list = [w_0, w_1]\n",
        "    return weights_list"
      ]
    },
    {
      "cell_type": "code",
      "execution_count": 38,
      "metadata": {
        "id": "vQIvYJSkh46h",
        "colab": {
          "base_uri": "https://localhost:8080/"
        },
        "outputId": "3b27ed13-f73c-4125-893a-036cd8e61780"
      },
      "outputs": [
        {
          "output_type": "stream",
          "name": "stdout",
          "text": [
            "[0.83    1.25758]\n"
          ]
        }
      ],
      "source": [
        "#TEST_CELL\n",
        "\n",
        "class_weights_list = class_weights(y_train)\n",
        "print(np.round(class_weights_list, 5))"
      ]
    },
    {
      "cell_type": "markdown",
      "metadata": {
        "id": "_RES78V1iY6-"
      },
      "source": [
        "**Salida esperada**:\n",
        "\n",
        "```python\n",
        "[0.83    1.25758]\n",
        "```"
      ]
    },
    {
      "cell_type": "markdown",
      "metadata": {
        "id": "MmbnzYIg1tdL"
      },
      "source": [
        "### **Evaluar código**"
      ]
    },
    {
      "cell_type": "code",
      "execution_count": 39,
      "metadata": {
        "id": "5qlllA02arba",
        "colab": {
          "base_uri": "https://localhost:8080/",
          "height": 141
        },
        "outputId": "b101ff8e-20d3-4737-e568-8cb98c6828a8"
      },
      "outputs": [
        {
          "output_type": "stream",
          "name": "stdout",
          "text": [
            "Test 1_1\n"
          ]
        },
        {
          "output_type": "display_data",
          "data": {
            "text/plain": [
              "<IPython.core.display.HTML object>"
            ],
            "text/html": [
              "<h4>Test Run correctly</h4>"
            ]
          },
          "metadata": {}
        },
        {
          "output_type": "display_data",
          "data": {
            "text/plain": [
              "<IPython.core.display.HTML object>"
            ],
            "text/html": [
              "<h6 style=\"color: green;\">Your test grade: 100</h6>\n",
              "<h6>Feedback: Probando código.</h6>"
            ]
          },
          "metadata": {}
        }
      ],
      "source": [
        "grader.run_test(\"Test 1_1\", globals())"
      ]
    },
    {
      "cell_type": "code",
      "execution_count": 40,
      "metadata": {
        "id": "OoUpAKKd1yxG",
        "colab": {
          "base_uri": "https://localhost:8080/",
          "height": 141
        },
        "outputId": "ffd7eaf4-bc5e-4b9c-b881-aa13f18456f5"
      },
      "outputs": [
        {
          "output_type": "stream",
          "name": "stdout",
          "text": [
            "Test 1_2\n"
          ]
        },
        {
          "output_type": "display_data",
          "data": {
            "text/plain": [
              "<IPython.core.display.HTML object>"
            ],
            "text/html": [
              "<h4>Test Run correctly</h4>"
            ]
          },
          "metadata": {}
        },
        {
          "output_type": "display_data",
          "data": {
            "text/plain": [
              "<IPython.core.display.HTML object>"
            ],
            "text/html": [
              "<h6 style=\"color: green;\">Your test grade: 100</h6>\n",
              "<h6>Feedback: Probando tu códico.</h6>"
            ]
          },
          "metadata": {}
        }
      ],
      "source": [
        "grader.run_test(\"Test 1_2\", globals())"
      ]
    },
    {
      "cell_type": "markdown",
      "metadata": {
        "id": "XaRFqDDgtU0n"
      },
      "source": [
        "## **2. Binary cross-entropy**\n",
        "---\n",
        "Ahora, complete la función **`get_loss`**. Esta debera dar como resultado una función que retorne el valor de la entropia cruzada, teniendo en cuenta los pesos de cada clase.\n",
        "\n",
        "**Entrada**:\n",
        "\n",
        "* **`class_weights`** : `list`, una lista con los pesos asociados a cada clase.\n",
        "\n",
        "**Salida**:\n",
        "\n",
        "* **`loss`** : `function`, una función que calcula la entropia cruzada ponderada y recibe unicamente los paramteros **`y_true`** y **`y_pred`**"
      ]
    },
    {
      "cell_type": "markdown",
      "source": [
        "$$w_0=\\dfrac{n_0+n_1}{2n_0},$$\n",
        "\n",
        "$$w_1=\\dfrac{n_0+n_1}{2n_1}.$$\n",
        "\n",
        "Y estos pesos se incorporan a la función de pérdida de la siguiente forma :\n",
        "\n",
        "$$\\mathcal{L}(\\vec{w})=-\\frac{1}{N}\\sum_{i=1}^{N}[w_1 y_i\\log(\\tilde{y}_i)+w_0(1-y_i)\\log(1-\\tilde{y}_i)],$$"
      ],
      "metadata": {
        "id": "e0IpmLVXEICz"
      }
    },
    {
      "cell_type": "code",
      "execution_count": 95,
      "metadata": {
        "id": "2ADXyyYP29Jd"
      },
      "outputs": [],
      "source": [
        "# FUNCIÓN CALIFICADA weighted_bce:\n",
        "import keras\n",
        "import keras.ops as K\n",
        "import numpy as np\n",
        "def get_loss(class_weights):\n",
        "    import keras.ops as K\n",
        "    w0, w1 = class_weights\n",
        "\n",
        "    def loss(y_true, y_pred):\n",
        "        weighted_bce  = K.mean( -w1 * y_true * np.log(y_pred) - w0 * (1 - y_true) * np.log(1 - y_pred) )\n",
        "    # Reemplazar con respuesta\n",
        "        return  weighted_bce\n",
        "    return loss"
      ]
    },
    {
      "cell_type": "markdown",
      "metadata": {
        "id": "XqDJqyV6JvXm"
      },
      "source": [
        "Use las siguientes celdas para probar su modelo:"
      ]
    },
    {
      "cell_type": "code",
      "execution_count": 96,
      "metadata": {
        "id": "Xj9SHxQe4qZ7",
        "colab": {
          "base_uri": "https://localhost:8080/"
        },
        "outputId": "8954a6f5-cace-450d-a686-bd385b625431"
      },
      "outputs": [
        {
          "output_type": "stream",
          "name": "stdout",
          "text": [
            "weighted_bce = 0.6931471805599454\n"
          ]
        }
      ],
      "source": [
        "#TEST_CELL\n",
        "class_weights_example = class_weights(y_train)\n",
        "Y_t = np.expand_dims(y_train, axis=-1)\n",
        "y_true = Y_t\n",
        "y_pred = np.ones([Y_t.shape[0],1]) * 0.5\n",
        "loss = get_loss(class_weights_example)\n",
        "print(\"weighted_bce =\", loss(y_true,y_pred).numpy())"
      ]
    },
    {
      "cell_type": "code",
      "source": [
        "import keras\n",
        "\n",
        "def get_loss(class_weights):\n",
        "    w0, w1 = class_weights\n",
        "\n",
        "    def loss(y_true, y_pred):\n",
        "        # Usar keras.ops en lugar de numpy\n",
        "        weighted_bce = keras.ops.mean(\n",
        "            -w1 * y_true * keras.ops.log(y_pred)\n",
        "            - w0 * (1 - y_true) * keras.ops.log(1 - y_pred)\n",
        "        )\n",
        "        return weighted_bce\n",
        "\n",
        "    return loss\n"
      ],
      "metadata": {
        "id": "YsvojFChJSAG"
      },
      "execution_count": 114,
      "outputs": []
    },
    {
      "cell_type": "markdown",
      "metadata": {
        "id": "lAaWVvBpJymI"
      },
      "source": [
        "**Salida esperada**:\n",
        "\n",
        "```python\n",
        "weighted_bce = 0.6931471\n",
        "\n",
        "```"
      ]
    },
    {
      "cell_type": "markdown",
      "metadata": {
        "id": "5T6GxmiX9kP-"
      },
      "source": [
        "<details>    \n",
        "<summary>\n",
        "    <font size=\"3\" color=\"darkgreen\"><b>Pista 1</b></font>\n",
        "</summary>\n",
        "\n",
        "\n",
        "* Utilice la función [**`keras.ops.mean`**] de la guia de _keras_."
      ]
    },
    {
      "cell_type": "markdown",
      "metadata": {
        "id": "dGER6Lv_9ujt"
      },
      "source": [
        "<details>    \n",
        "<summary>\n",
        "    <font size=\"3\" color=\"darkgreen\"><b>Pista 2</b></font>\n",
        "</summary>\n",
        "\n",
        "\n",
        "* El uso de una función de pérdida de entropía cruzada ponderada implica el uso de los pesos de cada clase para hallar su valor."
      ]
    },
    {
      "cell_type": "markdown",
      "metadata": {
        "id": "lUZ7boUb_I7M"
      },
      "source": [
        "<details>    \n",
        "<summary>\n",
        "    <font size=\"3\" color=\"darkgreen\"><b>Pista 3</b></font>\n",
        "</summary>\n",
        "\n",
        "\n",
        "* Tenga en cuenta que la salida de esta función debe ser otra función\n"
      ]
    },
    {
      "cell_type": "markdown",
      "metadata": {
        "id": "lQyHcZAK1xp7"
      },
      "source": [
        "### **Evaluar código**"
      ]
    },
    {
      "cell_type": "code",
      "execution_count": 115,
      "metadata": {
        "id": "OFwSYxcyjevU",
        "colab": {
          "base_uri": "https://localhost:8080/",
          "height": 141
        },
        "outputId": "0f1e8728-14f8-435b-bd32-f80fd989073c"
      },
      "outputs": [
        {
          "output_type": "stream",
          "name": "stdout",
          "text": [
            "Test 2_1\n"
          ]
        },
        {
          "output_type": "display_data",
          "data": {
            "text/plain": [
              "<IPython.core.display.HTML object>"
            ],
            "text/html": [
              "<h4>Test Run correctly</h4>"
            ]
          },
          "metadata": {}
        },
        {
          "output_type": "display_data",
          "data": {
            "text/plain": [
              "<IPython.core.display.HTML object>"
            ],
            "text/html": [
              "<h6 style=\"color: green;\">Your test grade: 100</h6>\n",
              "<h6>Feedback: Probando código</h6>"
            ]
          },
          "metadata": {}
        }
      ],
      "source": [
        "grader.run_test(\"Test 2_1\", globals())"
      ]
    },
    {
      "cell_type": "code",
      "execution_count": 98,
      "metadata": {
        "id": "o8P3GP-SheOO",
        "colab": {
          "base_uri": "https://localhost:8080/",
          "height": 141
        },
        "outputId": "75c20f59-ffea-4788-cb2a-9422a8a3f841"
      },
      "outputs": [
        {
          "output_type": "stream",
          "name": "stdout",
          "text": [
            "Test 2_2\n"
          ]
        },
        {
          "output_type": "display_data",
          "data": {
            "text/plain": [
              "<IPython.core.display.HTML object>"
            ],
            "text/html": [
              "<h4>Test Run correctly</h4>"
            ]
          },
          "metadata": {}
        },
        {
          "output_type": "display_data",
          "data": {
            "text/plain": [
              "<IPython.core.display.HTML object>"
            ],
            "text/html": [
              "<h6 style=\"color: green;\">Your test grade: 100</h6>\n",
              "<h6>Feedback: Probando código.</h6>"
            ]
          },
          "metadata": {}
        }
      ],
      "source": [
        "grader.run_test(\"Test 2_2\", globals())"
      ]
    },
    {
      "cell_type": "markdown",
      "metadata": {
        "id": "CVV8ok4yxsZ-"
      },
      "source": [
        "## **3. Optimizador**\n",
        "---\n",
        "Complete la función **`optimizer`** para que devuelva un optimizador válido. Deberá específicar el tipo de optimizador y la tasa de aprendizaje que usaremos en el entrenamiento.\n",
        "\n",
        "**Entrada** :\n",
        "\n",
        "* **`type_opt`** : `str`, que puede tomar valores entre: **`SGD`**, **`Adam`**, **`RMSprop`**.\n",
        "* **`learning_rate`** : `float`, correspondiente a la tasa de aprendizaje.\n",
        "\n",
        "**Salida** :\n",
        "\n",
        "* **`opt`** : El optimizador con tasa de aprendizaje definida, un objeto tipo `keras.optimizers`."
      ]
    },
    {
      "cell_type": "code",
      "execution_count": 101,
      "metadata": {
        "id": "8_KDo5bJ4h2l"
      },
      "outputs": [],
      "source": [
        "import keras\n",
        "def optimizer(type_opt, learning_rate):\n",
        "    # Obtener la clase del optimizador desde keras.optimizers usando su nombre\n",
        "    opt_class = getattr(keras.optimizers, type_opt)\n",
        "    # Instanciar con la tasa de aprendizaje\n",
        "    opt = opt_class(learning_rate=learning_rate)\n",
        "    return opt"
      ]
    },
    {
      "cell_type": "markdown",
      "metadata": {
        "id": "cR4Awzb5ztOD"
      },
      "source": [
        "Use las siguientes celdas para probar su modelo:"
      ]
    },
    {
      "cell_type": "code",
      "execution_count": 102,
      "metadata": {
        "id": "YfjU0JJaztrL",
        "colab": {
          "base_uri": "https://localhost:8080/"
        },
        "outputId": "ef9dad67-7bf1-4992-9569-d9553f980557"
      },
      "outputs": [
        {
          "output_type": "execute_result",
          "data": {
            "text/plain": [
              "<keras.src.optimizers.adam.Adam at 0x7f3ae4b932c0>"
            ]
          },
          "metadata": {},
          "execution_count": 102
        }
      ],
      "source": [
        "#TEST_CELL\n",
        "\n",
        "type_opt_test = 'Adam'\n",
        "learning_rate_test = 0.5\n",
        "optimizer(type_opt_test,learning_rate_test)"
      ]
    },
    {
      "cell_type": "markdown",
      "metadata": {
        "id": "Mtl2uZVAhBL6"
      },
      "source": [
        "**Salida esperada**:\n",
        "\n",
        "```\n",
        "<keras.optimizers.adam.Adam at 0x7f53eddd39d0>\n",
        "```"
      ]
    },
    {
      "cell_type": "markdown",
      "metadata": {
        "id": "uJijbMksGhZo"
      },
      "source": [
        "### **Evaluar código**"
      ]
    },
    {
      "cell_type": "code",
      "execution_count": 103,
      "metadata": {
        "id": "I8NER2oGGhZp",
        "colab": {
          "base_uri": "https://localhost:8080/",
          "height": 141
        },
        "outputId": "b1bb056c-5430-4790-ecce-4236b2d39d24"
      },
      "outputs": [
        {
          "output_type": "stream",
          "name": "stdout",
          "text": [
            "Test 3_1\n"
          ]
        },
        {
          "output_type": "display_data",
          "data": {
            "text/plain": [
              "<IPython.core.display.HTML object>"
            ],
            "text/html": [
              "<h4>Test Run correctly</h4>"
            ]
          },
          "metadata": {}
        },
        {
          "output_type": "display_data",
          "data": {
            "text/plain": [
              "<IPython.core.display.HTML object>"
            ],
            "text/html": [
              "<h6 style=\"color: green;\">Your test grade: 100</h6>\n",
              "<h6>Feedback: Probando código.</h6>"
            ]
          },
          "metadata": {}
        }
      ],
      "source": [
        "grader.run_test(\"Test 3_1\", globals())"
      ]
    },
    {
      "cell_type": "code",
      "execution_count": 104,
      "metadata": {
        "id": "iXimcQJxGhZp",
        "colab": {
          "base_uri": "https://localhost:8080/",
          "height": 141
        },
        "outputId": "f43e576e-7ea4-42f6-a2a9-596de9edf212"
      },
      "outputs": [
        {
          "output_type": "stream",
          "name": "stdout",
          "text": [
            "Test 3_2\n"
          ]
        },
        {
          "output_type": "display_data",
          "data": {
            "text/plain": [
              "<IPython.core.display.HTML object>"
            ],
            "text/html": [
              "<h4>Test Run correctly</h4>"
            ]
          },
          "metadata": {}
        },
        {
          "output_type": "display_data",
          "data": {
            "text/plain": [
              "<IPython.core.display.HTML object>"
            ],
            "text/html": [
              "<h6 style=\"color: green;\">Your test grade: 100</h6>\n",
              "<h6>Feedback: Probando código.</h6>"
            ]
          },
          "metadata": {}
        }
      ],
      "source": [
        "grader.run_test(\"Test 3_2\", globals())"
      ]
    },
    {
      "cell_type": "markdown",
      "metadata": {
        "id": "l1tiYFrs2GCq"
      },
      "source": [
        "## **4. Defina el modelo**\n",
        "---\n",
        "Teniendo una función de coste y un optimizador, podemos generar un modelo. A continuación implementa la función **`get_model`**, en la cual deberá definir el modelo usando _Keras_, considere que este se trata de una regresión logística.\n",
        "\n",
        "**Entrada** :\n",
        "\n",
        "* **`n_inputs`** : `int`, el número de vairables que utilizrá el modelo como entrada.\n",
        "* **`n_neurons`** : `int`, el número de salidas esperadas.\n",
        "* **`optimizer`** : `keras.optimizers`, el optimizador definido que se usará para minimizar la función de pérdida **`loss_fun`**\n",
        "* **`loss`**: `function`, Función de perdida a optimizar.\n",
        "\n",
        "**Salida** :\n",
        "\n",
        "* **`model`** : `keras.Models.Sequential` Modelo a entrenar."
      ]
    },
    {
      "cell_type": "code",
      "execution_count": 105,
      "metadata": {
        "id": "H8v5UZIwFzbU"
      },
      "outputs": [],
      "source": [
        "def get_model(n_inputs, n_neurons, optimizer, loss):\n",
        "    model = keras.models.Sequential()\n",
        "    model.add(keras.layers.Dense(n_neurons, activation='sigmoid', input_shape=(n_inputs,)))\n",
        "    model.compile(loss=loss, optimizer=optimizer)\n",
        "    return model"
      ]
    },
    {
      "cell_type": "code",
      "execution_count": 106,
      "metadata": {
        "id": "pYitBXFd79Wq",
        "colab": {
          "base_uri": "https://localhost:8080/",
          "height": 170
        },
        "outputId": "45367c50-3725-4441-d633-f4220b6fec95"
      },
      "outputs": [
        {
          "output_type": "display_data",
          "data": {
            "text/plain": [
              "\u001b[1mModel: \"sequential\"\u001b[0m\n"
            ],
            "text/html": [
              "<pre style=\"white-space:pre;overflow-x:auto;line-height:normal;font-family:Menlo,'DejaVu Sans Mono',consolas,'Courier New',monospace\"><span style=\"font-weight: bold\">Model: \"sequential\"</span>\n",
              "</pre>\n"
            ]
          },
          "metadata": {}
        },
        {
          "output_type": "display_data",
          "data": {
            "text/plain": [
              "┏━━━━━━━━━━━━━━━━━━━━━━━━━━━━━━━━━┳━━━━━━━━━━━━━━━━━━━━━━━━┳━━━━━━━━━━━━━━━┓\n",
              "┃\u001b[1m \u001b[0m\u001b[1mLayer (type)                   \u001b[0m\u001b[1m \u001b[0m┃\u001b[1m \u001b[0m\u001b[1mOutput Shape          \u001b[0m\u001b[1m \u001b[0m┃\u001b[1m \u001b[0m\u001b[1m      Param #\u001b[0m\u001b[1m \u001b[0m┃\n",
              "┡━━━━━━━━━━━━━━━━━━━━━━━━━━━━━━━━━╇━━━━━━━━━━━━━━━━━━━━━━━━╇━━━━━━━━━━━━━━━┩\n",
              "│ dense (\u001b[38;5;33mDense\u001b[0m)                   │ (\u001b[38;5;45mNone\u001b[0m, \u001b[38;5;34m1\u001b[0m)              │            \u001b[38;5;34m14\u001b[0m │\n",
              "└─────────────────────────────────┴────────────────────────┴───────────────┘\n"
            ],
            "text/html": [
              "<pre style=\"white-space:pre;overflow-x:auto;line-height:normal;font-family:Menlo,'DejaVu Sans Mono',consolas,'Courier New',monospace\">┏━━━━━━━━━━━━━━━━━━━━━━━━━━━━━━━━━┳━━━━━━━━━━━━━━━━━━━━━━━━┳━━━━━━━━━━━━━━━┓\n",
              "┃<span style=\"font-weight: bold\"> Layer (type)                    </span>┃<span style=\"font-weight: bold\"> Output Shape           </span>┃<span style=\"font-weight: bold\">       Param # </span>┃\n",
              "┡━━━━━━━━━━━━━━━━━━━━━━━━━━━━━━━━━╇━━━━━━━━━━━━━━━━━━━━━━━━╇━━━━━━━━━━━━━━━┩\n",
              "│ dense (<span style=\"color: #0087ff; text-decoration-color: #0087ff\">Dense</span>)                   │ (<span style=\"color: #00d7ff; text-decoration-color: #00d7ff\">None</span>, <span style=\"color: #00af00; text-decoration-color: #00af00\">1</span>)              │            <span style=\"color: #00af00; text-decoration-color: #00af00\">14</span> │\n",
              "└─────────────────────────────────┴────────────────────────┴───────────────┘\n",
              "</pre>\n"
            ]
          },
          "metadata": {}
        },
        {
          "output_type": "display_data",
          "data": {
            "text/plain": [
              "\u001b[1m Total params: \u001b[0m\u001b[38;5;34m14\u001b[0m (56.00 B)\n"
            ],
            "text/html": [
              "<pre style=\"white-space:pre;overflow-x:auto;line-height:normal;font-family:Menlo,'DejaVu Sans Mono',consolas,'Courier New',monospace\"><span style=\"font-weight: bold\"> Total params: </span><span style=\"color: #00af00; text-decoration-color: #00af00\">14</span> (56.00 B)\n",
              "</pre>\n"
            ]
          },
          "metadata": {}
        },
        {
          "output_type": "display_data",
          "data": {
            "text/plain": [
              "\u001b[1m Trainable params: \u001b[0m\u001b[38;5;34m14\u001b[0m (56.00 B)\n"
            ],
            "text/html": [
              "<pre style=\"white-space:pre;overflow-x:auto;line-height:normal;font-family:Menlo,'DejaVu Sans Mono',consolas,'Courier New',monospace\"><span style=\"font-weight: bold\"> Trainable params: </span><span style=\"color: #00af00; text-decoration-color: #00af00\">14</span> (56.00 B)\n",
              "</pre>\n"
            ]
          },
          "metadata": {}
        },
        {
          "output_type": "display_data",
          "data": {
            "text/plain": [
              "\u001b[1m Non-trainable params: \u001b[0m\u001b[38;5;34m0\u001b[0m (0.00 B)\n"
            ],
            "text/html": [
              "<pre style=\"white-space:pre;overflow-x:auto;line-height:normal;font-family:Menlo,'DejaVu Sans Mono',consolas,'Courier New',monospace\"><span style=\"font-weight: bold\"> Non-trainable params: </span><span style=\"color: #00af00; text-decoration-color: #00af00\">0</span> (0.00 B)\n",
              "</pre>\n"
            ]
          },
          "metadata": {}
        }
      ],
      "source": [
        "#TEST_CELL\n",
        "class_weights_example = class_weights(y_train)\n",
        "loss = get_loss(class_weights_example)\n",
        "opt = optimizer('Adam',0.5)\n",
        "model = get_model(13, 1, opt, loss)\n",
        "model.summary()"
      ]
    },
    {
      "cell_type": "markdown",
      "metadata": {
        "id": "5EnuPBQ8lSkW"
      },
      "source": [
        "**Salida esperada**\n",
        "\n",
        "```\n",
        "Model: \"sequential\"\n",
        "┏━━━━━━━━━━━━━━━━━━━━━━━━━━━━━━━━━━━━━━┳━━━━━━━━━━━━━━━━━━━━━━━━━━━━━┳━━━━━━━━━━━━━━━━━┓\n",
        "┃ Layer (type)                         ┃ Output Shape                ┃         Param # ┃\n",
        "┡━━━━━━━━━━━━━━━━━━━━━━━━━━━━━━━━━━━━━━╇━━━━━━━━━━━━━━━━━━━━━━━━━━━━━╇━━━━━━━━━━━━━━━━━┩\n",
        "│ dense (Dense)                        │ (None, 1)                   │              14 │\n",
        "└──────────────────────────────────────┴─────────────────────────────┴─────────────────┘\n",
        " Total params: 14 (56.00 B)\n",
        " Trainable params: 14 (56.00 B)\n",
        " Non-trainable params: 0 (0.00 B)\n",
        "```"
      ]
    },
    {
      "cell_type": "markdown",
      "metadata": {
        "id": "r7ui18FY-dVe"
      },
      "source": [
        "### **Evaluar código**"
      ]
    },
    {
      "cell_type": "code",
      "execution_count": 107,
      "metadata": {
        "id": "sZlDuu8oCj5p",
        "colab": {
          "base_uri": "https://localhost:8080/",
          "height": 141
        },
        "outputId": "48a45dfd-ab81-4151-f307-33cedfcf69d6"
      },
      "outputs": [
        {
          "output_type": "stream",
          "name": "stdout",
          "text": [
            "Test 4_1\n"
          ]
        },
        {
          "output_type": "display_data",
          "data": {
            "text/plain": [
              "<IPython.core.display.HTML object>"
            ],
            "text/html": [
              "<h4>Test Run correctly</h4>"
            ]
          },
          "metadata": {}
        },
        {
          "output_type": "display_data",
          "data": {
            "text/plain": [
              "<IPython.core.display.HTML object>"
            ],
            "text/html": [
              "<h6 style=\"color: green;\">Your test grade: 100</h6>\n",
              "<h6>Feedback: Probando código</h6>"
            ]
          },
          "metadata": {}
        }
      ],
      "source": [
        "grader.run_test(\"Test 4_1\", globals())"
      ]
    },
    {
      "cell_type": "code",
      "execution_count": 108,
      "metadata": {
        "id": "fn7G2fSSVD2h",
        "colab": {
          "base_uri": "https://localhost:8080/",
          "height": 141
        },
        "outputId": "7bdce1b6-f05d-43fe-d65f-6c9a0b03ac40"
      },
      "outputs": [
        {
          "output_type": "stream",
          "name": "stdout",
          "text": [
            "Test 4_2\n"
          ]
        },
        {
          "output_type": "display_data",
          "data": {
            "text/plain": [],
            "text/html": [
              "<pre style=\"white-space:pre;overflow-x:auto;line-height:normal;font-family:Menlo,'DejaVu Sans Mono',consolas,'Courier New',monospace\"></pre>\n"
            ]
          },
          "metadata": {}
        },
        {
          "output_type": "display_data",
          "data": {
            "text/plain": [],
            "text/html": [
              "<pre style=\"white-space:pre;overflow-x:auto;line-height:normal;font-family:Menlo,'DejaVu Sans Mono',consolas,'Courier New',monospace\"></pre>\n"
            ]
          },
          "metadata": {}
        },
        {
          "output_type": "display_data",
          "data": {
            "text/plain": [
              "<IPython.core.display.HTML object>"
            ],
            "text/html": [
              "<h4>Test Run correctly</h4>"
            ]
          },
          "metadata": {}
        },
        {
          "output_type": "display_data",
          "data": {
            "text/plain": [
              "<IPython.core.display.HTML object>"
            ],
            "text/html": [
              "<h6 style=\"color: green;\">Your test grade: 100</h6>\n",
              "<h6>Feedback: Probando código</h6>"
            ]
          },
          "metadata": {}
        }
      ],
      "source": [
        "grader.run_test(\"Test 4_2\", globals())"
      ]
    },
    {
      "cell_type": "markdown",
      "metadata": {
        "id": "tF6QMy_fzIM5"
      },
      "source": [
        "## **5. Entrenamiento del modelo**\n",
        "---\n",
        "Una vez definida cada una de las piezas, podemos entrenar el modelo. Complete la función **`train_model`** para que retorne los pesos, del modelo entrenado sobre los arreglos **`X_t`** y **`Y_t`**.\n",
        "\n",
        "**Entrada** :\n",
        "\n",
        "* **`model`** : `keras.Models.Sequential` Modelo a entrenar.\n",
        "* **`epochs`** : `int`, el número de iteraciones durante las cuales se realizará el entrenamiento del modelo.\n",
        "* **`optimizer`** : `keras.optimizers`, el optimizador definido que se usará para minimizar la función de pérdida **`loss_fun`**\n",
        "* **`X_t`**: `Tensor`, tensor de tamaño `(m,n)`, correspondiente a la matriz de datos de entrenamiento.\n",
        "* **`Y_t`**: `Tensor`, tensor de tamaño `(m,1)`, correspondiente a las etiquetas de los datos entrenamiento.\n",
        "* **`loss`** : `function`, una función que calcula la entropia cruzada ponderada y recibe unicamente los paramteros **`y_true`** y **`y_pred`**\n",
        "\n",
        "\n",
        "\n",
        "\n",
        "**Salida** :\n",
        "\n",
        "* **`losses`** : `list` Una lista con los valores de **`loss_fun`** en cada iteración.\n",
        "* **`weigths`**: `list`, lsita de tensores que contiene los pesos entrandos del mdoelo.\n",
        " >nota: Utiliza como referencia la construcción del modelo basado en Keras del taller guiado.\n"
      ]
    },
    {
      "cell_type": "code",
      "execution_count": 116,
      "metadata": {
        "id": "LNBHDSZCZs7g"
      },
      "outputs": [],
      "source": [
        "import numpy as np\n",
        "\n",
        "def train_model(model, epochs, optimizer, X_t, Y_t, loss):\n",
        "    # Entrenar el modelo\n",
        "    history = model.fit(\n",
        "        x=X_t.astype(np.float32),   # Datos de entrada\n",
        "        y=Y_t.astype(np.float32),   # Etiquetas de salida\n",
        "        epochs=epochs,\n",
        "        verbose=0\n",
        "    )\n",
        "\n",
        "    # Obtener las pérdidas (losses) registradas por época\n",
        "    losses = history.history['loss']\n",
        "\n",
        "    # Obtener los pesos entrenados del modelo\n",
        "    weights = model.get_weights()\n",
        "\n",
        "    return losses, weights\n"
      ]
    },
    {
      "cell_type": "code",
      "source": [],
      "metadata": {
        "id": "4N8lbIrzOQ6Y"
      },
      "execution_count": null,
      "outputs": []
    },
    {
      "cell_type": "code",
      "execution_count": 117,
      "metadata": {
        "id": "5dO_wLlRAMTU",
        "colab": {
          "base_uri": "https://localhost:8080/"
        },
        "outputId": "ecd2e951-f62a-4de1-bb4f-36f5bd168001"
      },
      "outputs": [
        {
          "output_type": "stream",
          "name": "stdout",
          "text": [
            "Epoch 0 loss = 0.9399663209915161\n",
            "Epoch 1 loss = 0.3858067989349365\n",
            "w[0] = [2.2023726]\n",
            "b = [-0.09913202]\n"
          ]
        }
      ],
      "source": [
        "#TEST_CELL\n",
        "keras.utils.set_random_seed(1) ## Fijar semilla para obtener siempre el mismo valor\n",
        "class_weights_example = class_weights(y_train)\n",
        "loss = get_loss(class_weights_example)\n",
        "opt = optimizer('Adam',0.5)\n",
        "\n",
        "model = get_model(13, 1, opt, loss)\n",
        "model.layers[0].set_weights([np.zeros([13,1]),np.array([0])])\n",
        "\n",
        "X_t = X_train\n",
        "Y_t = np.expand_dims(y_train, axis=-1)\n",
        "losses, weigths = train_model(model, 10, opt, X_t, Y_t, loss)\n",
        "print('Epoch', 0, 'loss =', losses[0])\n",
        "print('Epoch', 1, 'loss =', losses[1])\n",
        "print(\"w[0] =\", weigths[0][0])\n",
        "print(\"b =\",weigths[1])"
      ]
    },
    {
      "cell_type": "markdown",
      "metadata": {
        "id": "1Bn6B1jk-JR8"
      },
      "source": [
        "**Salida esperada**:\n",
        "\n",
        "```\n",
        "Epoch 0 loss = 0.9399663209915161\n",
        "Epoch 1 loss = 0.3858067989349365\n",
        "w[0] = [2.2023726]\n",
        "b = [-0.09913202]\n",
        "```"
      ]
    },
    {
      "cell_type": "markdown",
      "metadata": {
        "id": "vR11W-tJ6oCq"
      },
      "source": [
        "### **Evaluar código**"
      ]
    },
    {
      "cell_type": "code",
      "execution_count": 118,
      "metadata": {
        "id": "2AxVtfwt0Tye",
        "colab": {
          "base_uri": "https://localhost:8080/",
          "height": 141
        },
        "outputId": "18a2d2db-86f8-4343-ebaa-8042733ce99f"
      },
      "outputs": [
        {
          "output_type": "stream",
          "name": "stdout",
          "text": [
            "Test 5_1\n"
          ]
        },
        {
          "output_type": "display_data",
          "data": {
            "text/plain": [
              "<IPython.core.display.HTML object>"
            ],
            "text/html": [
              "<h4>Test Run correctly</h4>"
            ]
          },
          "metadata": {}
        },
        {
          "output_type": "display_data",
          "data": {
            "text/plain": [
              "<IPython.core.display.HTML object>"
            ],
            "text/html": [
              "<h6 style=\"color: green;\">Your test grade: 100</h6>\n",
              "<h6>Feedback: Probando código ejemplo.</h6>"
            ]
          },
          "metadata": {}
        }
      ],
      "source": [
        "grader.run_test(\"Test 5_1\", globals())"
      ]
    },
    {
      "cell_type": "code",
      "execution_count": 119,
      "metadata": {
        "id": "gbAvSZwY2OVr",
        "colab": {
          "base_uri": "https://localhost:8080/",
          "height": 141
        },
        "outputId": "9ebee7d8-5b55-454c-b48c-098731575b0a"
      },
      "outputs": [
        {
          "output_type": "stream",
          "name": "stdout",
          "text": [
            "Test 5_2\n"
          ]
        },
        {
          "output_type": "display_data",
          "data": {
            "text/plain": [
              "<IPython.core.display.HTML object>"
            ],
            "text/html": [
              "<h4>Test Run correctly</h4>"
            ]
          },
          "metadata": {}
        },
        {
          "output_type": "display_data",
          "data": {
            "text/plain": [
              "<IPython.core.display.HTML object>"
            ],
            "text/html": [
              "<h6 style=\"color: green;\">Your test grade: 100</h6>\n",
              "<h6>Feedback: Probando código.</h6>"
            ]
          },
          "metadata": {}
        }
      ],
      "source": [
        "grader.run_test(\"Test 5_2\", globals())"
      ]
    },
    {
      "cell_type": "markdown",
      "metadata": {
        "id": "rEJ0lz3uXVmx"
      },
      "source": [
        "## **6. Predicciones del modelo**\n",
        "---\n",
        "Finalmente, podemos utilizar los datos reservados de la partición de prueba para calcular predicciones y hacer evaluaciones.\n",
        "\n",
        "Complete la función **`model_predict`** para que retorne las predicciones del modelo entrenado sobre un conjunto de prueba.\n",
        "\n",
        "**Entrada** :\n",
        "* **`model`** : `keras.Models.Sequential` Modelo a entrenar.\n",
        "* **`X_test`** : `Tensor`, tensor de tamaño `(l,n)`, correspondiente a la matriz de datos de prueba.\n",
        "\n",
        "**Salida** :\n",
        "\n",
        "* **`y_pred`** : Tensor de tamaño `(l,1)`, con las predicciones de **model** para el conjunto de prueba **`X_test`**."
      ]
    },
    {
      "cell_type": "code",
      "execution_count": 125,
      "metadata": {
        "id": "vThH4MZR5b2c"
      },
      "outputs": [],
      "source": [
        "import tensorflow as tf\n",
        "\n",
        "def model_predict(model, X_test):\n",
        "    # Asegurarnos de que X_test es un tf.Tensor con dtype float32\n",
        "    X_t = tf.convert_to_tensor(X_test, dtype=tf.float32)\n",
        "    # Llamar al modelo directamente devuelve un tf.Tensor (no numpy)\n",
        "    y_pred = model(X_t, training=False)\n",
        "    return y_pred\n"
      ]
    },
    {
      "cell_type": "markdown",
      "metadata": {
        "id": "U8YzTaJEuTDc"
      },
      "source": [
        "Use la siguiente celda para probar su función:"
      ]
    },
    {
      "cell_type": "code",
      "execution_count": 126,
      "metadata": {
        "id": "FPHX2Ls-E50c",
        "colab": {
          "base_uri": "https://localhost:8080/"
        },
        "outputId": "319c5ac8-23ec-42a9-e624-7055acdb4588"
      },
      "outputs": [
        {
          "output_type": "stream",
          "name": "stdout",
          "text": [
            "Primeras dos predicciones:\n",
            " [[0.9925333]\n",
            " [0.0018804]]\n",
            "Accuracy sobre X_test después de 10 epochs: 0.9879518\n"
          ]
        }
      ],
      "source": [
        "keras.utils.set_random_seed(1)\n",
        "class_weights_example = class_weights(y_train)\n",
        "loss = get_loss(class_weights_example)\n",
        "opt = optimizer('Adam',0.5)\n",
        "model = get_model(13, 1, opt, loss)\n",
        "model.layers[0].set_weights([np.zeros([13,1]),np.array([0])])\n",
        "\n",
        "losses, weigths = train_model(model, 10, opt, X_t, Y_t, loss)\n",
        "y_pred = model_predict(model, X_t)\n",
        "\n",
        "print(\"Primeras dos predicciones:\\n\", y_pred[:2].numpy())\n",
        "m = keras.metrics.Accuracy()\n",
        "m.update_state(Y_t, tf.math.round(y_pred))\n",
        "print(\"Accuracy sobre X_test después de 10 epochs:\", m.result().numpy())"
      ]
    },
    {
      "cell_type": "markdown",
      "metadata": {
        "id": "q2rSY7ZRu0yK"
      },
      "source": [
        "**Salida esperada:**\n",
        "\n",
        "```\n",
        "Primeras dos predicciones:\n",
        " [[0.9925333]\n",
        " [0.0018804]]\n",
        "Accuracy sobre X_test después de 10 epochs: 0.9879518\n",
        "```"
      ]
    },
    {
      "cell_type": "markdown",
      "metadata": {
        "id": "Hdrtdcqq6px9"
      },
      "source": [
        "### **Evaluar código**"
      ]
    },
    {
      "cell_type": "code",
      "execution_count": 127,
      "metadata": {
        "id": "WXhw2IR8-zUS",
        "colab": {
          "base_uri": "https://localhost:8080/",
          "height": 141
        },
        "outputId": "6ca93f66-bc26-46a8-d55c-ad2beedcd0fe"
      },
      "outputs": [
        {
          "output_type": "stream",
          "name": "stdout",
          "text": [
            "Test 6_1\n"
          ]
        },
        {
          "output_type": "display_data",
          "data": {
            "text/plain": [
              "<IPython.core.display.HTML object>"
            ],
            "text/html": [
              "<h4>Test Run correctly</h4>"
            ]
          },
          "metadata": {}
        },
        {
          "output_type": "display_data",
          "data": {
            "text/plain": [
              "<IPython.core.display.HTML object>"
            ],
            "text/html": [
              "<h6 style=\"color: green;\">Your test grade: 100</h6>\n",
              "<h6>Feedback: Probando código ejemplo.</h6>"
            ]
          },
          "metadata": {}
        }
      ],
      "source": [
        "grader.run_test(\"Test 6_1\", globals())"
      ]
    },
    {
      "cell_type": "code",
      "execution_count": 128,
      "metadata": {
        "id": "UTeXn4pYEyk4",
        "colab": {
          "base_uri": "https://localhost:8080/",
          "height": 141
        },
        "outputId": "be911ba0-a3ef-4e5a-dec1-9e2d7d5fc6cc"
      },
      "outputs": [
        {
          "output_type": "stream",
          "name": "stdout",
          "text": [
            "Test 6_2\n"
          ]
        },
        {
          "output_type": "display_data",
          "data": {
            "text/plain": [
              "<IPython.core.display.HTML object>"
            ],
            "text/html": [
              "<h4>Test Run correctly</h4>"
            ]
          },
          "metadata": {}
        },
        {
          "output_type": "display_data",
          "data": {
            "text/plain": [
              "<IPython.core.display.HTML object>"
            ],
            "text/html": [
              "<h6 style=\"color: green;\">Your test grade: 100</h6>\n",
              "<h6>Feedback: Probando código.</h6>"
            ]
          },
          "metadata": {}
        }
      ],
      "source": [
        "grader.run_test(\"Test 6_2\", globals())"
      ]
    },
    {
      "cell_type": "markdown",
      "metadata": {
        "id": "08eh8HTknUDd"
      },
      "source": [
        "# **Evaluación**"
      ]
    },
    {
      "cell_type": "code",
      "execution_count": 129,
      "metadata": {
        "id": "pb0DP1bWwRll",
        "colab": {
          "base_uri": "https://localhost:8080/",
          "height": 1000
        },
        "outputId": "e2c34dc4-9ed4-496a-98da-78170a9ed6b2"
      },
      "outputs": [
        {
          "output_type": "stream",
          "name": "stdout",
          "text": [
            "Test 1_1\n",
            "Test 1_2\n",
            "Test 2_1\n",
            "Test 2_2\n",
            "Test 3_1\n",
            "Test 3_2\n",
            "Test 4_1\n",
            "Test 4_2\n"
          ]
        },
        {
          "output_type": "display_data",
          "data": {
            "text/plain": [],
            "text/html": [
              "<pre style=\"white-space:pre;overflow-x:auto;line-height:normal;font-family:Menlo,'DejaVu Sans Mono',consolas,'Courier New',monospace\"></pre>\n"
            ]
          },
          "metadata": {}
        },
        {
          "output_type": "display_data",
          "data": {
            "text/plain": [],
            "text/html": [
              "<pre style=\"white-space:pre;overflow-x:auto;line-height:normal;font-family:Menlo,'DejaVu Sans Mono',consolas,'Courier New',monospace\"></pre>\n"
            ]
          },
          "metadata": {}
        },
        {
          "output_type": "stream",
          "name": "stdout",
          "text": [
            "Test 5_1\n",
            "Test 5_2\n",
            "Test 6_1\n",
            "Test 6_2\n"
          ]
        },
        {
          "output_type": "display_data",
          "data": {
            "text/plain": [
              "<IPython.core.display.HTML object>"
            ],
            "text/html": [
              "<h3>Grading succeeded</h3>"
            ]
          },
          "metadata": {}
        },
        {
          "output_type": "display_data",
          "data": {
            "text/plain": [
              "<IPython.core.display.HTML object>"
            ],
            "text/html": [
              "<h6 style=\"color: green;\">TEST Test 1_1 , Your test grade: 100</h6>\n",
              "<h6>Feedback: Probando código.</h6>"
            ]
          },
          "metadata": {}
        },
        {
          "output_type": "display_data",
          "data": {
            "text/plain": [
              "<IPython.core.display.HTML object>"
            ],
            "text/html": [
              "<h6 style=\"color: green;\">TEST Test 1_2 , Your test grade: 100</h6>\n",
              "<h6>Feedback: Probando tu códico.</h6>"
            ]
          },
          "metadata": {}
        },
        {
          "output_type": "display_data",
          "data": {
            "text/plain": [
              "<IPython.core.display.HTML object>"
            ],
            "text/html": [
              "<h6 style=\"color: green;\">TEST Test 2_1 , Your test grade: 100</h6>\n",
              "<h6>Feedback: Probando código</h6>"
            ]
          },
          "metadata": {}
        },
        {
          "output_type": "display_data",
          "data": {
            "text/plain": [
              "<IPython.core.display.HTML object>"
            ],
            "text/html": [
              "<h6 style=\"color: green;\">TEST Test 2_2 , Your test grade: 100</h6>\n",
              "<h6>Feedback: Probando código.</h6>"
            ]
          },
          "metadata": {}
        },
        {
          "output_type": "display_data",
          "data": {
            "text/plain": [
              "<IPython.core.display.HTML object>"
            ],
            "text/html": [
              "<h6 style=\"color: green;\">TEST Test 3_1 , Your test grade: 100</h6>\n",
              "<h6>Feedback: Probando código.</h6>"
            ]
          },
          "metadata": {}
        },
        {
          "output_type": "display_data",
          "data": {
            "text/plain": [
              "<IPython.core.display.HTML object>"
            ],
            "text/html": [
              "<h6 style=\"color: green;\">TEST Test 3_2 , Your test grade: 100</h6>\n",
              "<h6>Feedback: Probando código.</h6>"
            ]
          },
          "metadata": {}
        },
        {
          "output_type": "display_data",
          "data": {
            "text/plain": [
              "<IPython.core.display.HTML object>"
            ],
            "text/html": [
              "<h6 style=\"color: green;\">TEST Test 4_1 , Your test grade: 100</h6>\n",
              "<h6>Feedback: Probando código</h6>"
            ]
          },
          "metadata": {}
        },
        {
          "output_type": "display_data",
          "data": {
            "text/plain": [
              "<IPython.core.display.HTML object>"
            ],
            "text/html": [
              "<h6 style=\"color: green;\">TEST Test 4_2 , Your test grade: 100</h6>\n",
              "<h6>Feedback: Probando código</h6>"
            ]
          },
          "metadata": {}
        },
        {
          "output_type": "display_data",
          "data": {
            "text/plain": [
              "<IPython.core.display.HTML object>"
            ],
            "text/html": [
              "<h6 style=\"color: green;\">TEST Test 5_1 , Your test grade: 100</h6>\n",
              "<h6>Feedback: Probando código ejemplo.</h6>"
            ]
          },
          "metadata": {}
        },
        {
          "output_type": "display_data",
          "data": {
            "text/plain": [
              "<IPython.core.display.HTML object>"
            ],
            "text/html": [
              "<h6 style=\"color: green;\">TEST Test 5_2 , Your test grade: 100</h6>\n",
              "<h6>Feedback: Probando código.</h6>"
            ]
          },
          "metadata": {}
        },
        {
          "output_type": "display_data",
          "data": {
            "text/plain": [
              "<IPython.core.display.HTML object>"
            ],
            "text/html": [
              "<h6 style=\"color: green;\">TEST Test 6_1 , Your test grade: 100</h6>\n",
              "<h6>Feedback: Probando código ejemplo.</h6>"
            ]
          },
          "metadata": {}
        },
        {
          "output_type": "display_data",
          "data": {
            "text/plain": [
              "<IPython.core.display.HTML object>"
            ],
            "text/html": [
              "<h6 style=\"color: green;\">TEST Test 6_2 , Your test grade: 100</h6>\n",
              "<h6>Feedback: Probando código.</h6>"
            ]
          },
          "metadata": {}
        },
        {
          "output_type": "display_data",
          "data": {
            "text/plain": [
              "<IPython.core.display.HTML object>"
            ],
            "text/html": [
              "<h3 style=\"color: purple;\">Your submission grade: \"100.0%\"</h3>"
            ]
          },
          "metadata": {}
        }
      ],
      "source": [
        "grader.submit_task(globals())"
      ]
    },
    {
      "cell_type": "markdown",
      "metadata": {
        "id": "B4Zv4dF3ieMk"
      },
      "source": [
        "# **Créditos**\n",
        "---\n",
        "\n",
        "* **Profesor:** [Fabio Augusto Gonzalez](https://dis.unal.edu.co/~fgonza/)\n",
        "* **Asistentes docentes :**\n",
        "  * [Juan Sebastián Malagón Torres](https://sites.google.com/unal.edu.co/santiagotoledo-cortes/)\n",
        "  * [Santiago Toledo Cortés](https://sites.google.com/unal.edu.co/santiagotoledo-cortes/)\n",
        "* **Diseño de imágenes:**\n",
        "    - [Mario Andres Rodriguez Triana](mailto:mrodrigueztr@unal.edu.co).\n",
        "* **Coordinador de virtualización:**\n",
        "    - [Edder Hernández Forero](https://www.linkedin.com/in/edder-hernandez-forero-28aa8b207/).\n",
        "\n",
        "**Universidad Nacional de Colombia** - *Facultad de Ingeniería*"
      ]
    }
  ],
  "metadata": {
    "colab": {
      "provenance": [],
      "include_colab_link": true
    },
    "gpuClass": "standard",
    "kernelspec": {
      "display_name": "Python 3",
      "name": "python3"
    },
    "language_info": {
      "name": "python"
    }
  },
  "nbformat": 4,
  "nbformat_minor": 0
}